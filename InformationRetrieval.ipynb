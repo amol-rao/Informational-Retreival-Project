{
 "cells": [
  {
   "cell_type": "markdown",
   "metadata": {},
   "source": [
    "## Assignment 1 - Information Retrieval "
   ]
  },
  {
   "cell_type": "markdown",
   "metadata": {
    "collapsed": true
   },
   "source": [
    "### Q1 : a) Which of trec_eval's measures may be appropriate for measuring search system performance for government websites?\n",
    "\n",
    "Trec_eval is a tool used to evaluate information retrieval resutls. Government search requests may have many different requirements : from staff in a department looking up all instances of a particular regulation, to individuals searching for more information on a given topic. \n",
    "\n",
    "In many cases the \"map\" - or mean average precision is the most important measure.\n"
   ]
  },
  {
   "cell_type": "markdown",
   "metadata": {},
   "source": [
    "### Q1 : b) Why do you think this measure is appropriate?\n",
    "\n",
    "It returns the 'mean average precision' or the area under the precision recall curve is the average precision score for each query.  Overall it seems to indicate whether a) the returned results are relevant to what the judges deemed important to the information need and b) whether the result occured within the top of the ranked return list. "
   ]
  },
  {
   "cell_type": "code",
   "execution_count": 1,
   "metadata": {
    "collapsed": true
   },
   "outputs": [],
   "source": [
    "# Install whoosh\n",
    "!pip --quiet install whoosh\n",
    "!pip --quiet install nltk"
   ]
  },
  {
   "cell_type": "code",
   "execution_count": 1,
   "metadata": {
    "collapsed": true
   },
   "outputs": [],
   "source": [
    "# Extract dataset\n",
    "#/resources/data/DSS_Fall2016_Assign1/government"
   ]
  },
  {
   "cell_type": "code",
   "execution_count": 2,
   "metadata": {
    "collapsed": true
   },
   "outputs": [],
   "source": [
    "#compile trec_eval\n",
    "!make -s -w -C /resources/data/DSS_Fall2016_Assign1/trec_eval.8.1 > /dev/null 2>&1"
   ]
  },
  {
   "cell_type": "code",
   "execution_count": 3,
   "metadata": {
    "collapsed": true
   },
   "outputs": [],
   "source": [
    "#import necessary libraries\n",
    "from whoosh import index, writing\n",
    "from whoosh.fields import Schema, TEXT, KEYWORD, ID, STORED\n",
    "from whoosh.analysis import *\n",
    "from whoosh.qparser import QueryParser\n",
    "import os, os.path\n",
    "import shutil"
   ]
  },
  {
   "cell_type": "code",
   "execution_count": 4,
   "metadata": {
    "collapsed": true
   },
   "outputs": [],
   "source": [
    "#define constants for pathfiles\n",
    "DOCUMENTS_DIR = \"/resources/data/DSS_Fall2016_Assign1/government/documents\"\n",
    "INDEX_DIR = \"/resources/data/DSS_Fall2016_Assign1/government/index1\"\n",
    "QUER_FILE = \"/resources/data/DSS_Fall2016_Assign1/government/topics/gov.topics\"\n",
    "QRELS_FILE = \"/resources/data/DSS_Fall2016_Assign1/government/qrels/gov.qrels\"\n",
    "OUTPUT_FILE = \"/resources/data/DSS_Fall2016_Assign1/government/myres\"\n",
    "TREC_EVAL = \"/resources/data/DSS_Fall2016_Assign1/trec_eval.8.1/trec_eval\"\n",
    "#constants for pathfiles for question 3\n",
    "INDEX_DIR2 = \"/resources/data/DSS_Fall2016_Assign1/government/index2\"\n",
    "OUTPUT_FILE2 = \"/resources/data/DSS_Fall2016_Assign1/government/myres2\"\n"
   ]
  },
  {
   "cell_type": "markdown",
   "metadata": {},
   "source": [
    "### Building the index"
   ]
  },
  {
   "cell_type": "code",
   "execution_count": 5,
   "metadata": {
    "collapsed": false
   },
   "outputs": [],
   "source": [
    "# define a Schema for the index\n",
    "mySchema = Schema(file_path = ID(stored=True),\n",
    "                  file_content = TEXT(analyzer = RegexTokenizer()))"
   ]
  },
  {
   "cell_type": "code",
   "execution_count": 6,
   "metadata": {
    "collapsed": true
   },
   "outputs": [],
   "source": [
    "# if index exists - remove it\n",
    "if os.path.isdir(INDEX_DIR):\n",
    "    shutil.rmtree(INDEX_DIR)\n",
    "\n",
    "# create the directory for the index\n",
    "os.makedirs(INDEX_DIR)\n",
    "\n",
    "# create index\n",
    "myIndex = index.create_in(INDEX_DIR, mySchema)"
   ]
  },
  {
   "cell_type": "markdown",
   "metadata": {},
   "source": [
    "### Indexing the files"
   ]
  },
  {
   "cell_type": "code",
   "execution_count": 7,
   "metadata": {
    "collapsed": false
   },
   "outputs": [
    {
     "name": "stdout",
     "output_type": "stream",
     "text": [
      "00  05\t10  15\t20  25\t30  35\t40  45\t50  55\t60  65\t70  75\t80  85\t90  95\r\n",
      "01  06\t11  16\t21  26\t31  36\t41  46\t51  56\t61  66\t71  76\t81  86\t91  96\r\n",
      "02  07\t12  17\t22  27\t32  37\t42  47\t52  57\t62  67\t72  77\t82  87\t92  97\r\n",
      "03  08\t13  18\t23  28\t33  38\t43  48\t53  58\t63  68\t73  78\t83  88\t93  98\r\n",
      "04  09\t14  19\t24  29\t34  39\t44  49\t54  59\t64  69\t74  79\t84  89\t94  99\r\n"
     ]
    }
   ],
   "source": [
    "#a review of the documents in our dataset\n",
    "!ls $DOCUMENTS_DIR"
   ]
  },
  {
   "cell_type": "code",
   "execution_count": 8,
   "metadata": {
    "collapsed": true
   },
   "outputs": [],
   "source": [
    "# build a list of all the full paths of the files in DOCUMENTS_DIR\n",
    "filesToIndex = []\n",
    "for root, dirs, files in os.walk(DOCUMENTS_DIR):\n",
    "    filePaths = [os.path.join(root, fileName) for fileName in files if not fileName.startswith('.')]\n",
    "    filesToIndex.extend(filePaths)"
   ]
  },
  {
   "cell_type": "code",
   "execution_count": 9,
   "metadata": {
    "collapsed": false
   },
   "outputs": [
    {
     "name": "stdout",
     "output_type": "stream",
     "text": [
      "number of files: 4078\n"
     ]
    }
   ],
   "source": [
    "# count files to index\n",
    "print(\"number of files:\", len(filesToIndex))"
   ]
  },
  {
   "cell_type": "code",
   "execution_count": 11,
   "metadata": {
    "collapsed": false
   },
   "outputs": [
    {
     "name": "stdout",
     "output_type": "stream",
     "text": [
      "already indexed: 1\n",
      "already indexed: 1001\n",
      "already indexed: 2001\n",
      "already indexed: 3001\n",
      "already indexed: 4001\n",
      "done indexing.\n"
     ]
    }
   ],
   "source": [
    "# open writer\n",
    "myWriter = writing.BufferedWriter(myIndex, period=20, limit=1000)\n",
    "\n",
    "try:\n",
    "    # write each file to index\n",
    "    for docNum, filePath in enumerate(filesToIndex):\n",
    "        with open(filePath, \"r\") as f:\n",
    "            fileContent = f.read()\n",
    "            myWriter.add_document(file_path = filePath,\n",
    "                                  file_content = fileContent)\n",
    "            \n",
    "            if (docNum % 1000 == 0):\n",
    "                print(\"already indexed:\", docNum+1)\n",
    "    print(\"done indexing.\")\n",
    "\n",
    "finally:\n",
    "    # save the index\n",
    "    myWriter.close()"
   ]
  },
  {
   "cell_type": "markdown",
   "metadata": {
    "collapsed": true
   },
   "source": [
    "### Querying"
   ]
  },
  {
   "cell_type": "code",
   "execution_count": 12,
   "metadata": {
    "collapsed": true
   },
   "outputs": [],
   "source": [
    "# define a query parser for the field \"file_content\" in the index\n",
    "myQueryParser = QueryParser(\"file_content\", schema=myIndex.schema)\n",
    "mySearcher = myIndex.searcher()"
   ]
  },
  {
   "cell_type": "code",
   "execution_count": 14,
   "metadata": {
    "collapsed": false
   },
   "outputs": [
    {
     "name": "stdout",
     "output_type": "stream",
     "text": [
      "G00-27-2048511 0 11.170158826961423\n",
      "G00-23-3149835 1 10.652009691707796\n",
      "G00-21-2004003 2 10.503256176663015\n",
      "G00-02-0351712 3 10.400390721635022\n",
      "G00-42-1455285 4 9.983462665074871\n",
      "G00-80-2792256 5 9.968921376585962\n",
      "G00-09-3243231 6 9.785659651660213\n",
      "G00-07-3659195 7 9.785659651660213\n",
      "G00-32-2907392 8 9.6203188529462\n",
      "G00-34-1044519 9 9.450078792832446\n",
      "G00-94-0326199 10 9.242492296562132\n",
      "G00-74-1802348 11 9.129242769451768\n",
      "G00-15-3106058 12 8.988621065292778\n",
      "G00-90-0342721 13 8.763825043794746\n",
      "G00-78-2441218 14 8.469978686870341\n",
      "G00-12-1831266 15 8.230056959150348\n",
      "G00-62-3289850 16 8.131299320987106\n",
      "G00-67-2481553 17 8.079090699241481\n",
      "G00-86-3214229 18 7.909972777923419\n",
      "G00-00-0681214 19 7.605797631067926\n",
      "G00-01-2689026 20 6.9793862722689\n",
      "G00-31-1216640 21 6.9793862722689\n",
      "G00-44-0995015 22 6.918337097042838\n",
      "G00-07-1172041 23 6.728688991101429\n",
      "G00-40-0635599 24 6.659445406770013\n",
      "G00-05-2231767 25 6.591612449542602\n",
      "G00-09-1443772 26 6.316697752806301\n",
      "G00-50-1708114 27 5.529164039346947\n",
      "G00-14-0844999 28 5.505684675793975\n",
      "G00-66-0145846 29 5.352509343824923\n",
      "G00-10-1843562 30 5.352509343824923\n",
      "G00-95-2005790 31 4.730089818884947\n",
      "G00-54-2231037 32 4.418844847631001\n",
      "G00-22-1796180 33 4.110123056268509\n",
      "G00-61-2575433 34 3.834458848054917\n",
      "G00-55-3690786 35 1.762886600162467\n",
      "G00-38-4104339 36 1.4995816279665195\n",
      "G00-73-3287750 37 1.4191601349409766\n",
      "G00-87-1292162 38 1.1994083891323692\n",
      "G00-43-1143881 39 1.1656273053382924\n",
      "G00-43-3607125 40 1.1656273053382924\n",
      "G00-68-4089689 41 0.9803705277599913\n",
      "G00-78-2551063 42 0.7291998890800743\n",
      "G00-60-0739588 43 0.6270096660530695\n",
      "G00-83-3561112 44 0.4338386471655866\n"
     ]
    }
   ],
   "source": [
    "# run a sample query for the phrase \"mining\"\n",
    "sampleQuery = myQueryParser.parse(\"mining\")\n",
    "sampleQueryResults = mySearcher.search(sampleQuery, limit=None)\n",
    "\n",
    "# inspect the result:\n",
    "# for each document print the rank and the score\n",
    "for (docnum, result) in enumerate(sampleQueryResults):\n",
    "    score = sampleQueryResults.score(docnum)\n",
    "    fileName = os.path.basename(result[\"file_path\"])\n",
    "    print(fileName, docnum, score)"
   ]
  },
  {
   "cell_type": "markdown",
   "metadata": {},
   "source": [
    "### Evaluate Results Using Trec_Eval"
   ]
  },
  {
   "cell_type": "code",
   "execution_count": 13,
   "metadata": {
    "collapsed": false
   },
   "outputs": [
    {
     "name": "stdout",
     "output_type": "stream",
     "text": [
      "1 mining gold silver coal\r\n",
      "2 juvenile delinquency\r\n",
      "4 wireless communications\r\n",
      "6 physical therapists\r\n",
      "7 cotton industry\r\n",
      "9 genealogy searches\r\n",
      "10 Physical Fitness\r\n",
      "14 Agricultural biotechnology\r\n",
      "16 Emergency and disaster preparedness assistance\r\n",
      "18 Shipwrecks\r\n",
      "19 Cybercrime, internet fraud, and cyber fraud\r\n",
      "22 Veteran's Benefits\r\n",
      "24 Air Bag Safety\r\n",
      "26 Nuclear power plants\r\n",
      "28 Early Childhood Education\r\n"
     ]
    }
   ],
   "source": [
    "# print the topic file\n",
    "!cat $QUER_FILE"
   ]
  },
  {
   "cell_type": "code",
   "execution_count": 14,
   "metadata": {
    "collapsed": false
   },
   "outputs": [
    {
     "name": "stdout",
     "output_type": "stream",
     "text": [
      "1 0 G00-00-0681214 0\r\n",
      "1 0 G00-00-0945765 0\r\n",
      "1 0 G00-00-1006224 1\r\n",
      "1 0 G00-00-1591495 0\r\n",
      "1 0 G00-00-2764912 0\r\n",
      "1 0 G00-00-3253540 0\r\n",
      "1 0 G00-00-3717374 0\r\n",
      "1 0 G00-01-0270065 0\r\n",
      "1 0 G00-01-0400712 0\r\n",
      "1 0 G00-01-0682299 0\r\n"
     ]
    }
   ],
   "source": [
    "# print the first 10 lines in the qrels file\n",
    "!head -n 10 $QRELS_FILE"
   ]
  },
  {
   "cell_type": "code",
   "execution_count": 15,
   "metadata": {
    "collapsed": true
   },
   "outputs": [],
   "source": [
    "# Load topic file - a list of topics(search phrases) used for evalutation\n",
    "topicsFile = open(QUER_FILE,\"r\")\n",
    "topics = topicsFile.read().splitlines()\n",
    "\n",
    "# create an output file to which we'll write our results\n",
    "outputTRECFile = open(OUTPUT_FILE, \"w\")\n",
    "\n",
    "# for each evaluated topic:\n",
    "# build a query and record the results in the file in TREC_EVAL format\n",
    "for topic in topics:\n",
    "    topic_id, topic_phrase = tuple(topic.split(\" \", 1))\n",
    "    topicQuery = myQueryParser.parse(topic_phrase)\n",
    "    topicResults = mySearcher.search(topicQuery, limit=None)\n",
    "    for (docnum, result) in enumerate(topicResults):\n",
    "        score = topicResults.score(docnum)\n",
    "        outputTRECFile.write(\"%s Q0 %s %d %lf amoogle\\n\" % (topic_id, os.path.basename(result[\"file_path\"]), docnum, score))\n",
    "\n",
    "# close the topic and results file\n",
    "outputTRECFile.close()\n",
    "topicsFile.close()"
   ]
  },
  {
   "cell_type": "code",
   "execution_count": 16,
   "metadata": {
    "collapsed": false
   },
   "outputs": [
    {
     "name": "stdout",
     "output_type": "stream",
     "text": [
      "1 Q0 G00-90-0342721 0 26.645398 amoogle\r\n",
      "2 Q0 G00-22-3396139 0 17.262139 amoogle\r\n",
      "2 Q0 G00-76-0415824 1 10.597055 amoogle\r\n",
      "2 Q0 G00-78-1531079 2 8.778648 amoogle\r\n",
      "2 Q0 G00-15-1718631 3 8.076860 amoogle\r\n",
      "2 Q0 G00-70-2787853 4 6.788751 amoogle\r\n",
      "2 Q0 G00-74-1394517 5 3.368380 amoogle\r\n",
      "4 Q0 G00-99-2247765 0 16.449155 amoogle\r\n",
      "4 Q0 G00-85-1525415 1 13.364613 amoogle\r\n",
      "4 Q0 G00-05-1218739 2 12.956314 amoogle\r\n"
     ]
    }
   ],
   "source": [
    "#ensure output file contains contents \n",
    "!head -n 10 $OUTPUT_FILE"
   ]
  },
  {
   "cell_type": "code",
   "execution_count": 17,
   "metadata": {
    "collapsed": false
   },
   "outputs": [
    {
     "name": "stdout",
     "output_type": "stream",
     "text": [
      "num_ret        \t1\t1\r\n",
      "num_rel        \t1\t5\r\n",
      "num_rel_ret    \t1\t0\r\n",
      "map            \t1\t0.0000\r\n",
      "R-prec         \t1\t0.0000\r\n",
      "bpref          \t1\t0.0000\r\n",
      "recip_rank     \t1\t0.0000\r\n",
      "ircl_prn.0.00  \t1\t0.0000\r\n",
      "ircl_prn.0.10  \t1\t0.0000\r\n",
      "ircl_prn.0.20  \t1\t0.0000\r\n",
      "ircl_prn.0.30  \t1\t0.0000\r\n",
      "ircl_prn.0.40  \t1\t0.0000\r\n",
      "ircl_prn.0.50  \t1\t0.0000\r\n",
      "ircl_prn.0.60  \t1\t0.0000\r\n",
      "ircl_prn.0.70  \t1\t0.0000\r\n",
      "ircl_prn.0.80  \t1\t0.0000\r\n",
      "ircl_prn.0.90  \t1\t0.0000\r\n",
      "ircl_prn.1.00  \t1\t0.0000\r\n",
      "P5             \t1\t0.0000\r\n",
      "P10            \t1\t0.0000\r\n",
      "P15            \t1\t0.0000\r\n",
      "P20            \t1\t0.0000\r\n",
      "P30            \t1\t0.0000\r\n",
      "P100           \t1\t0.0000\r\n",
      "P200           \t1\t0.0000\r\n",
      "P500           \t1\t0.0000\r\n",
      "P1000          \t1\t0.0000\r\n",
      "num_ret        \t2\t6\r\n",
      "num_rel        \t2\t2\r\n",
      "num_rel_ret    \t2\t0\r\n",
      "map            \t2\t0.0000\r\n",
      "R-prec         \t2\t0.0000\r\n",
      "bpref          \t2\t0.0000\r\n",
      "recip_rank     \t2\t0.0000\r\n",
      "ircl_prn.0.00  \t2\t0.0000\r\n",
      "ircl_prn.0.10  \t2\t0.0000\r\n",
      "ircl_prn.0.20  \t2\t0.0000\r\n",
      "ircl_prn.0.30  \t2\t0.0000\r\n",
      "ircl_prn.0.40  \t2\t0.0000\r\n",
      "ircl_prn.0.50  \t2\t0.0000\r\n",
      "ircl_prn.0.60  \t2\t0.0000\r\n",
      "ircl_prn.0.70  \t2\t0.0000\r\n",
      "ircl_prn.0.80  \t2\t0.0000\r\n",
      "ircl_prn.0.90  \t2\t0.0000\r\n",
      "ircl_prn.1.00  \t2\t0.0000\r\n",
      "P5             \t2\t0.0000\r\n",
      "P10            \t2\t0.0000\r\n",
      "P15            \t2\t0.0000\r\n",
      "P20            \t2\t0.0000\r\n",
      "P30            \t2\t0.0000\r\n",
      "P100           \t2\t0.0000\r\n",
      "P200           \t2\t0.0000\r\n",
      "P500           \t2\t0.0000\r\n",
      "P1000          \t2\t0.0000\r\n",
      "num_ret        \t4\t12\r\n",
      "num_rel        \t4\t4\r\n",
      "num_rel_ret    \t4\t1\r\n",
      "map            \t4\t0.0312\r\n",
      "R-prec         \t4\t0.0000\r\n",
      "bpref          \t4\t0.0000\r\n",
      "recip_rank     \t4\t0.1250\r\n",
      "ircl_prn.0.00  \t4\t0.1250\r\n",
      "ircl_prn.0.10  \t4\t0.1250\r\n",
      "ircl_prn.0.20  \t4\t0.1250\r\n",
      "ircl_prn.0.30  \t4\t0.0000\r\n",
      "ircl_prn.0.40  \t4\t0.0000\r\n",
      "ircl_prn.0.50  \t4\t0.0000\r\n",
      "ircl_prn.0.60  \t4\t0.0000\r\n",
      "ircl_prn.0.70  \t4\t0.0000\r\n",
      "ircl_prn.0.80  \t4\t0.0000\r\n",
      "ircl_prn.0.90  \t4\t0.0000\r\n",
      "ircl_prn.1.00  \t4\t0.0000\r\n",
      "P5             \t4\t0.0000\r\n",
      "P10            \t4\t0.1000\r\n",
      "P15            \t4\t0.0667\r\n",
      "P20            \t4\t0.0500\r\n",
      "P30            \t4\t0.0333\r\n",
      "P100           \t4\t0.0100\r\n",
      "P200           \t4\t0.0050\r\n",
      "P500           \t4\t0.0020\r\n",
      "P1000          \t4\t0.0010\r\n",
      "num_ret        \t6\t5\r\n",
      "num_rel        \t6\t1\r\n",
      "num_rel_ret    \t6\t0\r\n",
      "map            \t6\t0.0000\r\n",
      "R-prec         \t6\t0.0000\r\n",
      "bpref          \t6\t0.0000\r\n",
      "recip_rank     \t6\t0.0000\r\n",
      "ircl_prn.0.00  \t6\t0.0000\r\n",
      "ircl_prn.0.10  \t6\t0.0000\r\n",
      "ircl_prn.0.20  \t6\t0.0000\r\n",
      "ircl_prn.0.30  \t6\t0.0000\r\n",
      "ircl_prn.0.40  \t6\t0.0000\r\n",
      "ircl_prn.0.50  \t6\t0.0000\r\n",
      "ircl_prn.0.60  \t6\t0.0000\r\n",
      "ircl_prn.0.70  \t6\t0.0000\r\n",
      "ircl_prn.0.80  \t6\t0.0000\r\n",
      "ircl_prn.0.90  \t6\t0.0000\r\n",
      "ircl_prn.1.00  \t6\t0.0000\r\n",
      "P5             \t6\t0.0000\r\n",
      "P10            \t6\t0.0000\r\n",
      "P15            \t6\t0.0000\r\n",
      "P20            \t6\t0.0000\r\n",
      "P30            \t6\t0.0000\r\n",
      "P100           \t6\t0.0000\r\n",
      "P200           \t6\t0.0000\r\n",
      "P500           \t6\t0.0000\r\n",
      "P1000          \t6\t0.0000\r\n",
      "num_ret        \t7\t7\r\n",
      "num_rel        \t7\t3\r\n",
      "num_rel_ret    \t7\t0\r\n",
      "map            \t7\t0.0000\r\n",
      "R-prec         \t7\t0.0000\r\n",
      "bpref          \t7\t0.0000\r\n",
      "recip_rank     \t7\t0.0000\r\n",
      "ircl_prn.0.00  \t7\t0.0000\r\n",
      "ircl_prn.0.10  \t7\t0.0000\r\n",
      "ircl_prn.0.20  \t7\t0.0000\r\n",
      "ircl_prn.0.30  \t7\t0.0000\r\n",
      "ircl_prn.0.40  \t7\t0.0000\r\n",
      "ircl_prn.0.50  \t7\t0.0000\r\n",
      "ircl_prn.0.60  \t7\t0.0000\r\n",
      "ircl_prn.0.70  \t7\t0.0000\r\n",
      "ircl_prn.0.80  \t7\t0.0000\r\n",
      "ircl_prn.0.90  \t7\t0.0000\r\n",
      "ircl_prn.1.00  \t7\t0.0000\r\n",
      "P5             \t7\t0.0000\r\n",
      "P10            \t7\t0.0000\r\n",
      "P15            \t7\t0.0000\r\n",
      "P20            \t7\t0.0000\r\n",
      "P30            \t7\t0.0000\r\n",
      "P100           \t7\t0.0000\r\n",
      "P200           \t7\t0.0000\r\n",
      "P500           \t7\t0.0000\r\n",
      "P1000          \t7\t0.0000\r\n",
      "num_ret        \t9\t2\r\n",
      "num_rel        \t9\t1\r\n",
      "num_rel_ret    \t9\t0\r\n",
      "map            \t9\t0.0000\r\n",
      "R-prec         \t9\t0.0000\r\n",
      "bpref          \t9\t0.0000\r\n",
      "recip_rank     \t9\t0.0000\r\n",
      "ircl_prn.0.00  \t9\t0.0000\r\n",
      "ircl_prn.0.10  \t9\t0.0000\r\n",
      "ircl_prn.0.20  \t9\t0.0000\r\n",
      "ircl_prn.0.30  \t9\t0.0000\r\n",
      "ircl_prn.0.40  \t9\t0.0000\r\n",
      "ircl_prn.0.50  \t9\t0.0000\r\n",
      "ircl_prn.0.60  \t9\t0.0000\r\n",
      "ircl_prn.0.70  \t9\t0.0000\r\n",
      "ircl_prn.0.80  \t9\t0.0000\r\n",
      "ircl_prn.0.90  \t9\t0.0000\r\n",
      "ircl_prn.1.00  \t9\t0.0000\r\n",
      "P5             \t9\t0.0000\r\n",
      "P10            \t9\t0.0000\r\n",
      "P15            \t9\t0.0000\r\n",
      "P20            \t9\t0.0000\r\n",
      "P30            \t9\t0.0000\r\n",
      "P100           \t9\t0.0000\r\n",
      "P200           \t9\t0.0000\r\n",
      "P500           \t9\t0.0000\r\n",
      "P1000          \t9\t0.0000\r\n",
      "num_ret        \t10\t16\r\n",
      "num_rel        \t10\t1\r\n",
      "num_rel_ret    \t10\t1\r\n",
      "map            \t10\t0.1667\r\n",
      "R-prec         \t10\t0.0000\r\n",
      "bpref          \t10\t0.0000\r\n",
      "recip_rank     \t10\t0.1667\r\n",
      "ircl_prn.0.00  \t10\t0.1667\r\n",
      "ircl_prn.0.10  \t10\t0.1667\r\n",
      "ircl_prn.0.20  \t10\t0.1667\r\n",
      "ircl_prn.0.30  \t10\t0.1667\r\n",
      "ircl_prn.0.40  \t10\t0.1667\r\n",
      "ircl_prn.0.50  \t10\t0.1667\r\n",
      "ircl_prn.0.60  \t10\t0.1667\r\n",
      "ircl_prn.0.70  \t10\t0.1667\r\n",
      "ircl_prn.0.80  \t10\t0.1667\r\n",
      "ircl_prn.0.90  \t10\t0.1667\r\n",
      "ircl_prn.1.00  \t10\t0.1667\r\n",
      "P5             \t10\t0.0000\r\n",
      "P10            \t10\t0.1000\r\n",
      "P15            \t10\t0.0667\r\n",
      "P20            \t10\t0.0500\r\n",
      "P30            \t10\t0.0333\r\n",
      "P100           \t10\t0.0100\r\n",
      "P200           \t10\t0.0050\r\n",
      "P500           \t10\t0.0020\r\n",
      "P1000          \t10\t0.0010\r\n",
      "num_ret        \t14\t7\r\n",
      "num_rel        \t14\t1\r\n",
      "num_rel_ret    \t14\t1\r\n",
      "map            \t14\t0.2500\r\n",
      "R-prec         \t14\t0.0000\r\n",
      "bpref          \t14\t0.0000\r\n",
      "recip_rank     \t14\t0.2500\r\n",
      "ircl_prn.0.00  \t14\t0.2500\r\n",
      "ircl_prn.0.10  \t14\t0.2500\r\n",
      "ircl_prn.0.20  \t14\t0.2500\r\n",
      "ircl_prn.0.30  \t14\t0.2500\r\n",
      "ircl_prn.0.40  \t14\t0.2500\r\n",
      "ircl_prn.0.50  \t14\t0.2500\r\n",
      "ircl_prn.0.60  \t14\t0.2500\r\n",
      "ircl_prn.0.70  \t14\t0.2500\r\n",
      "ircl_prn.0.80  \t14\t0.2500\r\n",
      "ircl_prn.0.90  \t14\t0.2500\r\n",
      "ircl_prn.1.00  \t14\t0.2500\r\n",
      "P5             \t14\t0.2000\r\n",
      "P10            \t14\t0.1000\r\n",
      "P15            \t14\t0.0667\r\n",
      "P20            \t14\t0.0500\r\n",
      "P30            \t14\t0.0333\r\n",
      "P100           \t14\t0.0100\r\n",
      "P200           \t14\t0.0050\r\n",
      "P500           \t14\t0.0020\r\n",
      "P1000          \t14\t0.0010\r\n",
      "num_ret        \t16\t7\r\n",
      "num_rel        \t16\t7\r\n",
      "num_rel_ret    \t16\t0\r\n",
      "map            \t16\t0.0000\r\n",
      "R-prec         \t16\t0.0000\r\n",
      "bpref          \t16\t0.0000\r\n",
      "recip_rank     \t16\t0.0000\r\n",
      "ircl_prn.0.00  \t16\t0.0000\r\n",
      "ircl_prn.0.10  \t16\t0.0000\r\n",
      "ircl_prn.0.20  \t16\t0.0000\r\n",
      "ircl_prn.0.30  \t16\t0.0000\r\n",
      "ircl_prn.0.40  \t16\t0.0000\r\n",
      "ircl_prn.0.50  \t16\t0.0000\r\n",
      "ircl_prn.0.60  \t16\t0.0000\r\n",
      "ircl_prn.0.70  \t16\t0.0000\r\n",
      "ircl_prn.0.80  \t16\t0.0000\r\n",
      "ircl_prn.0.90  \t16\t0.0000\r\n",
      "ircl_prn.1.00  \t16\t0.0000\r\n",
      "P5             \t16\t0.0000\r\n",
      "P10            \t16\t0.0000\r\n",
      "P15            \t16\t0.0000\r\n",
      "P20            \t16\t0.0000\r\n",
      "P30            \t16\t0.0000\r\n",
      "P100           \t16\t0.0000\r\n",
      "P200           \t16\t0.0000\r\n",
      "P500           \t16\t0.0000\r\n",
      "P1000          \t16\t0.0000\r\n",
      "num_ret        \t18\t17\r\n",
      "num_rel        \t18\t1\r\n",
      "num_rel_ret    \t18\t1\r\n",
      "map            \t18\t1.0000\r\n",
      "R-prec         \t18\t1.0000\r\n",
      "bpref          \t18\t1.0000\r\n",
      "recip_rank     \t18\t1.0000\r\n",
      "ircl_prn.0.00  \t18\t1.0000\r\n",
      "ircl_prn.0.10  \t18\t1.0000\r\n",
      "ircl_prn.0.20  \t18\t1.0000\r\n",
      "ircl_prn.0.30  \t18\t1.0000\r\n",
      "ircl_prn.0.40  \t18\t1.0000\r\n",
      "ircl_prn.0.50  \t18\t1.0000\r\n",
      "ircl_prn.0.60  \t18\t1.0000\r\n",
      "ircl_prn.0.70  \t18\t1.0000\r\n",
      "ircl_prn.0.80  \t18\t1.0000\r\n",
      "ircl_prn.0.90  \t18\t1.0000\r\n",
      "ircl_prn.1.00  \t18\t1.0000\r\n",
      "P5             \t18\t0.2000\r\n",
      "P10            \t18\t0.1000\r\n",
      "P15            \t18\t0.0667\r\n",
      "P20            \t18\t0.0500\r\n",
      "P30            \t18\t0.0333\r\n",
      "P100           \t18\t0.0100\r\n",
      "P200           \t18\t0.0050\r\n",
      "P500           \t18\t0.0020\r\n",
      "P1000          \t18\t0.0010\r\n",
      "num_ret        \t22\t17\r\n",
      "num_rel        \t22\t1\r\n",
      "num_rel_ret    \t22\t1\r\n",
      "map            \t22\t0.2000\r\n",
      "R-prec         \t22\t0.0000\r\n",
      "bpref          \t22\t0.0000\r\n",
      "recip_rank     \t22\t0.2000\r\n",
      "ircl_prn.0.00  \t22\t0.2000\r\n",
      "ircl_prn.0.10  \t22\t0.2000\r\n",
      "ircl_prn.0.20  \t22\t0.2000\r\n",
      "ircl_prn.0.30  \t22\t0.2000\r\n",
      "ircl_prn.0.40  \t22\t0.2000\r\n",
      "ircl_prn.0.50  \t22\t0.2000\r\n",
      "ircl_prn.0.60  \t22\t0.2000\r\n",
      "ircl_prn.0.70  \t22\t0.2000\r\n",
      "ircl_prn.0.80  \t22\t0.2000\r\n",
      "ircl_prn.0.90  \t22\t0.2000\r\n",
      "ircl_prn.1.00  \t22\t0.2000\r\n",
      "P5             \t22\t0.2000\r\n",
      "P10            \t22\t0.1000\r\n",
      "P15            \t22\t0.0667\r\n",
      "P20            \t22\t0.0500\r\n",
      "P30            \t22\t0.0333\r\n",
      "P100           \t22\t0.0100\r\n",
      "P200           \t22\t0.0050\r\n",
      "P500           \t22\t0.0020\r\n",
      "P1000          \t22\t0.0010\r\n",
      "num_ret        \t24\t7\r\n",
      "num_rel        \t24\t1\r\n",
      "num_rel_ret    \t24\t1\r\n",
      "map            \t24\t1.0000\r\n",
      "R-prec         \t24\t1.0000\r\n",
      "bpref          \t24\t1.0000\r\n",
      "recip_rank     \t24\t1.0000\r\n",
      "ircl_prn.0.00  \t24\t1.0000\r\n",
      "ircl_prn.0.10  \t24\t1.0000\r\n",
      "ircl_prn.0.20  \t24\t1.0000\r\n",
      "ircl_prn.0.30  \t24\t1.0000\r\n",
      "ircl_prn.0.40  \t24\t1.0000\r\n",
      "ircl_prn.0.50  \t24\t1.0000\r\n",
      "ircl_prn.0.60  \t24\t1.0000\r\n",
      "ircl_prn.0.70  \t24\t1.0000\r\n",
      "ircl_prn.0.80  \t24\t1.0000\r\n",
      "ircl_prn.0.90  \t24\t1.0000\r\n",
      "ircl_prn.1.00  \t24\t1.0000\r\n",
      "P5             \t24\t0.2000\r\n",
      "P10            \t24\t0.1000\r\n",
      "P15            \t24\t0.0667\r\n",
      "P20            \t24\t0.0500\r\n",
      "P30            \t24\t0.0333\r\n",
      "P100           \t24\t0.0100\r\n",
      "P200           \t24\t0.0050\r\n",
      "P500           \t24\t0.0020\r\n",
      "P1000          \t24\t0.0010\r\n",
      "num_ret        \t26\t25\r\n",
      "num_rel        \t26\t3\r\n",
      "num_rel_ret    \t26\t1\r\n",
      "map            \t26\t0.1111\r\n",
      "R-prec         \t26\t0.3333\r\n",
      "bpref          \t26\t0.1111\r\n",
      "recip_rank     \t26\t0.3333\r\n",
      "ircl_prn.0.00  \t26\t0.3333\r\n",
      "ircl_prn.0.10  \t26\t0.3333\r\n",
      "ircl_prn.0.20  \t26\t0.3333\r\n",
      "ircl_prn.0.30  \t26\t0.3333\r\n",
      "ircl_prn.0.40  \t26\t0.0000\r\n",
      "ircl_prn.0.50  \t26\t0.0000\r\n",
      "ircl_prn.0.60  \t26\t0.0000\r\n",
      "ircl_prn.0.70  \t26\t0.0000\r\n",
      "ircl_prn.0.80  \t26\t0.0000\r\n",
      "ircl_prn.0.90  \t26\t0.0000\r\n",
      "ircl_prn.1.00  \t26\t0.0000\r\n",
      "P5             \t26\t0.2000\r\n",
      "P10            \t26\t0.1000\r\n",
      "P15            \t26\t0.0667\r\n",
      "P20            \t26\t0.0500\r\n",
      "P30            \t26\t0.0333\r\n",
      "P100           \t26\t0.0100\r\n",
      "P200           \t26\t0.0050\r\n",
      "P500           \t26\t0.0020\r\n",
      "P1000          \t26\t0.0010\r\n",
      "num_ret        \t28\t22\r\n",
      "num_rel        \t28\t2\r\n",
      "num_rel_ret    \t28\t0\r\n",
      "map            \t28\t0.0000\r\n",
      "R-prec         \t28\t0.0000\r\n",
      "bpref          \t28\t0.0000\r\n",
      "recip_rank     \t28\t0.0000\r\n",
      "ircl_prn.0.00  \t28\t0.0000\r\n",
      "ircl_prn.0.10  \t28\t0.0000\r\n",
      "ircl_prn.0.20  \t28\t0.0000\r\n",
      "ircl_prn.0.30  \t28\t0.0000\r\n",
      "ircl_prn.0.40  \t28\t0.0000\r\n",
      "ircl_prn.0.50  \t28\t0.0000\r\n",
      "ircl_prn.0.60  \t28\t0.0000\r\n",
      "ircl_prn.0.70  \t28\t0.0000\r\n",
      "ircl_prn.0.80  \t28\t0.0000\r\n",
      "ircl_prn.0.90  \t28\t0.0000\r\n",
      "ircl_prn.1.00  \t28\t0.0000\r\n",
      "P5             \t28\t0.0000\r\n",
      "P10            \t28\t0.0000\r\n",
      "P15            \t28\t0.0000\r\n",
      "P20            \t28\t0.0000\r\n",
      "P30            \t28\t0.0000\r\n",
      "P100           \t28\t0.0000\r\n",
      "P200           \t28\t0.0000\r\n",
      "P500           \t28\t0.0000\r\n",
      "P1000          \t28\t0.0000\r\n",
      "num_q          \tall\t14\r\n",
      "num_ret        \tall\t151\r\n",
      "num_rel        \tall\t33\r\n",
      "num_rel_ret    \tall\t7\r\n",
      "map            \tall\t0.1971\r\n",
      "gm_ap          \tall\t0.0015\r\n",
      "R-prec         \tall\t0.1667\r\n",
      "bpref          \tall\t0.1508\r\n",
      "recip_rank     \tall\t0.2196\r\n",
      "ircl_prn.0.00  \tall\t0.2196\r\n",
      "ircl_prn.0.10  \tall\t0.2196\r\n",
      "ircl_prn.0.20  \tall\t0.2196\r\n",
      "ircl_prn.0.30  \tall\t0.2107\r\n",
      "ircl_prn.0.40  \tall\t0.1869\r\n",
      "ircl_prn.0.50  \tall\t0.1869\r\n",
      "ircl_prn.0.60  \tall\t0.1869\r\n",
      "ircl_prn.0.70  \tall\t0.1869\r\n",
      "ircl_prn.0.80  \tall\t0.1869\r\n",
      "ircl_prn.0.90  \tall\t0.1869\r\n",
      "ircl_prn.1.00  \tall\t0.1869\r\n",
      "P5             \tall\t0.0714\r\n",
      "P10            \tall\t0.0500\r\n",
      "P15            \tall\t0.0333\r\n",
      "P20            \tall\t0.0250\r\n",
      "P30            \tall\t0.0167\r\n",
      "P100           \tall\t0.0050\r\n",
      "P200           \tall\t0.0025\r\n",
      "P500           \tall\t0.0010\r\n",
      "P1000          \tall\t0.0005\r\n"
     ]
    }
   ],
   "source": [
    "#compare output to trec_eval\n",
    "!$TREC_EVAL -q $QRELS_FILE $OUTPUT_FILE"
   ]
  },
  {
   "cell_type": "markdown",
   "metadata": {
    "collapsed": true
   },
   "source": [
    "### Q2 a) How well did the baseline Whoosh system do on your chosen measures? \n",
    "\n",
    "Based on the MAP measure, performed poorly : or 0.1971. "
   ]
  },
  {
   "cell_type": "markdown",
   "metadata": {},
   "source": [
    "### Q2 b) Are there any particular topics where it did very well, or very badly? \n",
    "\n",
    "It performed well on topics : 24, 18\n",
    "It performed poorly on topics : 26, 22, 16, 14, 10, 9, 7, 6, 4, 2, 1"
   ]
  },
  {
   "cell_type": "markdown",
   "metadata": {},
   "source": [
    "### Q3 a) What do you think would improve Whoosh's performance on this test collection, and why? \n",
    "\n",
    "The performance could be potentially be improved by adding additional tokenizers, such as : lowercase filter, intraword filter, stop filter and seach filter"
   ]
  },
  {
   "cell_type": "markdown",
   "metadata": {},
   "source": [
    "### Evaluating Additional Configurations"
   ]
  },
  {
   "cell_type": "code",
   "execution_count": 14,
   "metadata": {
    "collapsed": false
   },
   "outputs": [],
   "source": [
    "#create a function to perform the normalization\n",
    "stmLwrStpIntraAnalyzer = RegexTokenizer() | LowercaseFilter() | IntraWordFilter() | StopFilter() | StemFilter()"
   ]
  },
  {
   "cell_type": "code",
   "execution_count": 15,
   "metadata": {
    "collapsed": true
   },
   "outputs": [],
   "source": [
    "mySchema2 = Schema(file_path = ID(stored=True),\n",
    "                   file_content = TEXT(analyzer = stmLwrStpIntraAnalyzer))"
   ]
  },
  {
   "cell_type": "code",
   "execution_count": 16,
   "metadata": {
    "collapsed": true
   },
   "outputs": [],
   "source": [
    "# if index exists - remove it\n",
    "if os.path.isdir(INDEX_DIR2):\n",
    "    shutil.rmtree(INDEX_DIR2)\n",
    "\n",
    "# create the directory for the index\n",
    "os.makedirs(INDEX_DIR2)\n",
    "\n",
    "# create index or open it if already exists\n",
    "myIndex2 = index.create_in(INDEX_DIR2, mySchema2)"
   ]
  },
  {
   "cell_type": "code",
   "execution_count": 13,
   "metadata": {
    "collapsed": false
   },
   "outputs": [
    {
     "name": "stdout",
     "output_type": "stream",
     "text": [
      "already indexed: 1\n",
      "already indexed: 1001\n",
      "already indexed: 2001\n",
      "already indexed: 3001\n",
      "already indexed: 4001\n",
      "done indexing.\n"
     ]
    }
   ],
   "source": [
    "# open writer\n",
    "myWriter2 = writing.BufferedWriter(myIndex2, period=20, limit=1000)\n",
    "\n",
    "try:\n",
    "    # write each file to index\n",
    "    for docNum, filePath in enumerate(filesToIndex):\n",
    "        with open(filePath, \"r\") as f:\n",
    "            fileContent = f.read()\n",
    "            myWriter2.add_document(file_path = filePath,\n",
    "                                  file_content = fileContent)\n",
    "            \n",
    "            if (docNum % 1000 == 0):\n",
    "                print(\"already indexed:\", docNum+1)\n",
    "    print(\"done indexing.\")\n",
    "\n",
    "finally:\n",
    "    # save the index\n",
    "    myWriter2.close()"
   ]
  },
  {
   "cell_type": "code",
   "execution_count": 17,
   "metadata": {
    "collapsed": true
   },
   "outputs": [],
   "source": [
    "# define a query parser for the field \"file_content\" in the index\n",
    "myQueryParser2 = QueryParser(\"file_content\", schema=myIndex2.schema)\n",
    "mySearcher2 = myIndex2.searcher()"
   ]
  },
  {
   "cell_type": "code",
   "execution_count": 18,
   "metadata": {
    "collapsed": true
   },
   "outputs": [],
   "source": [
    "# Load topic file - a list of topics(search phrases) used for evalutation\n",
    "topicsFile = open(QUER_FILE,\"r\")\n",
    "topics = topicsFile.read().splitlines()\n",
    "\n",
    "# create an output file to which we'll write our results\n",
    "outputTRECFile2 = open(OUTPUT_FILE2, \"w\")\n",
    "\n",
    "# for each evaluated topic:\n",
    "# build a query and record the results in the file in TREC_EVAL format\n",
    "for topic in topics:\n",
    "    topic_id, topic_phrase = tuple(topic.split(\" \", 1))\n",
    "    topicQuery = myQueryParser2.parse(topic_phrase)\n",
    "    topicResults = mySearcher2.search(topicQuery, limit=None)\n",
    "    for (docnum, result) in enumerate(topicResults):\n",
    "        score = topicResults.score(docnum)\n",
    "        outputTRECFile2.write(\"%s Q0 %s %d %lf test\\n\" % (topic_id, os.path.basename(result[\"file_path\"]), docnum, score))\n",
    "\n",
    "# close the topic and results file\n",
    "outputTRECFile2.close()\n",
    "topicsFile.close()"
   ]
  },
  {
   "cell_type": "code",
   "execution_count": 22,
   "metadata": {
    "collapsed": false
   },
   "outputs": [],
   "source": [
    "!$TREC_EVAL -q $QRELS_FILE $OUTPUT_FILE2"
   ]
  },
  {
   "cell_type": "markdown",
   "metadata": {},
   "source": [
    "### Q3 b) What modifications did you make and what were the improvements?\n",
    "\n",
    "write write"
   ]
  },
  {
   "cell_type": "markdown",
   "metadata": {},
   "source": [
    "### Q3 c) Did your changes improve things overall?\n",
    "\n",
    "write write"
   ]
  },
  {
   "cell_type": "markdown",
   "metadata": {},
   "source": [
    "### Q3 d) Did some queries get better while others got worse?\n",
    "\n",
    "write write"
   ]
  },
  {
   "cell_type": "markdown",
   "metadata": {},
   "source": [
    "### Q3 e) What do you think this means for your idea?\n",
    "\n",
    "write write"
   ]
  },
  {
   "cell_type": "markdown",
   "metadata": {},
   "source": [
    "### Q4 b) Additional iteration graduate student. Try alternative techniques of improving performance and answer questions 3 again. \n",
    "\n",
    "write write"
   ]
  },
  {
   "cell_type": "code",
   "execution_count": null,
   "metadata": {
    "collapsed": true
   },
   "outputs": [],
   "source": []
  }
 ],
 "metadata": {
  "kernelspec": {
   "display_name": "Python 3",
   "language": "python",
   "name": "python3"
  },
  "language_info": {
   "codemirror_mode": {
    "name": "ipython",
    "version": 3
   },
   "file_extension": ".py",
   "mimetype": "text/x-python",
   "name": "python",
   "nbconvert_exporter": "python",
   "pygments_lexer": "ipython3",
   "version": "3.4.3"
  },
  "widgets": {
   "state": {},
   "version": "1.1.2"
  }
 },
 "nbformat": 4,
 "nbformat_minor": 0
}
